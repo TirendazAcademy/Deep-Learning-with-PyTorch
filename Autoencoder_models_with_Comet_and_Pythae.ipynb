{
  "nbformat": 4,
  "nbformat_minor": 0,
  "metadata": {
    "colab": {
      "provenance": [],
      "authorship_tag": "ABX9TyNqp5IS/nzmlchlK//ZKkhN",
      "include_colab_link": true
    },
    "kernelspec": {
      "name": "python3",
      "display_name": "Python 3"
    },
    "language_info": {
      "name": "python"
    },
    "accelerator": "GPU",
    "gpuClass": "standard"
  },
  "cells": [
    {
      "cell_type": "markdown",
      "metadata": {
        "id": "view-in-github",
        "colab_type": "text"
      },
      "source": [
        "<a href=\"https://colab.research.google.com/github/TirendazAcademy/Deep-Learning-with-PyTorch/blob/main/Autoencoder_models_with_Comet_and_Pythae.ipynb\" target=\"_parent\"><img src=\"https://colab.research.google.com/assets/colab-badge.svg\" alt=\"Open In Colab\"/></a>"
      ]
    },
    {
      "cell_type": "markdown",
      "source": [
        "# Autoencoder models with Comet and Pythae\n",
        "Comet ML now includes integration with the Pythae library, a collection of various Variational Autoencoder models that allows researchers to compare models and perform reproducible research."
      ],
      "metadata": {
        "id": "iK7WDlaPJAHl"
      }
    },
    {
      "cell_type": "code",
      "execution_count": null,
      "metadata": {
        "id": "3EW2T3ZFHq0m"
      },
      "outputs": [],
      "source": [
        "# Installing necessary libraries\n",
        "!pip install pythae\n",
        "!pip install comet-ml "
      ]
    },
    {
      "cell_type": "markdown",
      "source": [
        "## Improting the Classes and Functions"
      ],
      "metadata": {
        "id": "cQ5z30ZeJcI5"
      }
    },
    {
      "cell_type": "code",
      "source": [
        "import torchvision.datasets as datasets\n",
        "\n",
        "#pythae\n",
        "from pythae.models import BetaVAE, BetaVAEConfig\n",
        "from pythae.trainers import BaseTrainerConfig\n",
        "from pythae.pipelines.training import TrainingPipeline\n",
        "from pythae.models.nn.benchmarks.mnist import Encoder_ResNet_VAE_MNIST, Decoder_ResNet_AE_MNIST\n",
        "\n",
        "# Create you callback\n",
        "from pythae.trainers.training_callbacks import CometCallback\n",
        "\n",
        "# Or you can alternatively ability to view the Comet UI in the jupyter notebook\n",
        "import comet_ml"
      ],
      "metadata": {
        "id": "FVf9i_4lH6gf"
      },
      "execution_count": 3,
      "outputs": []
    },
    {
      "cell_type": "markdown",
      "source": [
        "## Loading Dataset"
      ],
      "metadata": {
        "id": "q77VmxKpJo6H"
      }
    },
    {
      "cell_type": "code",
      "source": [
        "mnist_trainset = datasets.MNIST(root='../data', train=True, download=True, transform=None)\n",
        "\n",
        "train_dataset = mnist_trainset.data[:-10000].reshape(-1, 1, 28, 28) / 255.\n",
        "eval_dataset = mnist_trainset.data[-10000:].reshape(-1, 1, 28, 28) / 255."
      ],
      "metadata": {
        "id": "ovubc8-4IAjm"
      },
      "execution_count": null,
      "outputs": []
    },
    {
      "cell_type": "markdown",
      "source": [
        "## Defining Model Parameters"
      ],
      "metadata": {
        "id": "hUYXdYNSJxB8"
      }
    },
    {
      "cell_type": "code",
      "source": [
        "# Let’s define Trainer arguments:\n",
        "training_config = BaseTrainerConfig(\n",
        "    output_dir='my_model',\n",
        "    learning_rate=1e-4,\n",
        "    batch_size=100,\n",
        "    num_epochs=10, # Change this to train the model a bit more,\n",
        "    steps_predict=3\n",
        ")"
      ],
      "metadata": {
        "id": "WX2hTnNgIcgh"
      },
      "execution_count": 5,
      "outputs": []
    },
    {
      "cell_type": "code",
      "source": [
        "# Let’s define the VAE model arguments:\n",
        "model_config = BetaVAEConfig(\n",
        "    input_dim=(1, 28, 28),\n",
        "    latent_dim=16,\n",
        "    beta=2.\n",
        "\n",
        ")"
      ],
      "metadata": {
        "id": "N_d2kr6NIdCl"
      },
      "execution_count": 6,
      "outputs": []
    },
    {
      "cell_type": "code",
      "source": [
        "# Building a VAE model\n",
        "model = BetaVAE(\n",
        "    model_config=model_config,\n",
        "    encoder=Encoder_ResNet_VAE_MNIST(model_config), \n",
        "    decoder=Decoder_ResNet_AE_MNIST(model_config) \n",
        ")"
      ],
      "metadata": {
        "id": "o0MyTvRmJ3tY"
      },
      "execution_count": 7,
      "outputs": []
    },
    {
      "cell_type": "markdown",
      "source": [
        "##  Defining Callback with Comet"
      ],
      "metadata": {
        "id": "a_iB-qlsKp5t"
      }
    },
    {
      "cell_type": "code",
      "source": [
        "callbacks = [] # the TrainingPipeline expects a list of callbacks\n",
        "\n",
        "comet_cb = CometCallback() # Build the callback \n",
        "\n",
        "# SetUp the callback \n",
        "comet_cb.setup(\n",
        "    training_config=training_config, # training config\n",
        "    model_config=model_config, # model config\n",
        "    api_key=\"***\", # specify your comet api-key\n",
        "    project_name=\"Comet-Pythae\", # specify your wandb project\n",
        "    # workspace={{WORKSPACE NAME}}, #default workspace name = comet ml username   \n",
        "    # offline_run=True, # run in offline mode\n",
        "    # offline_directory='my_offline_runs' # set the directory to store the offline runs\n",
        ")\n",
        "\n",
        "callbacks.append(comet_cb) # Add it to the callbacks list"
      ],
      "metadata": {
        "colab": {
          "base_uri": "https://localhost:8080/"
        },
        "id": "-II9H_BDKtrW",
        "outputId": "89431658-6d7f-413e-a980-1fefdaf062a4"
      },
      "execution_count": 8,
      "outputs": [
        {
          "output_type": "stream",
          "name": "stderr",
          "text": [
            "COMET WARNING: Comet has disabled auto-logging functionality as it has been imported after the following ML modules: torch, sklearn. Metrics and hyperparameters can still be logged using Experiment.log_metrics() and Experiment.log_parameters()\n",
            "COMET WARNING: As you are running in a Jupyter environment, you will need to call `experiment.end()` when finished to ensure all metrics and code are logged before exiting.\n",
            "COMET ERROR: Failed to calculate active processors count. Fall back to default CPU count 1\n",
            "COMET INFO: Couldn't find a Git repository in '/content' nor in any parent directory. You can override where Comet is looking for a Git Patch by setting the configuration `COMET_GIT_DIRECTORY`\n",
            "COMET INFO: Experiment is live on comet.com https://www.comet.com/tirendaz/comet-pythae/311b5e521ad1426095a8bad9384bf548\n",
            "\n"
          ]
        }
      ]
    },
    {
      "cell_type": "markdown",
      "source": [
        "## Training the model with a pipeline"
      ],
      "metadata": {
        "id": "mDj2ANIVL9X9"
      }
    },
    {
      "cell_type": "code",
      "source": [
        "pipeline = TrainingPipeline(\n",
        "    training_config=training_config,\n",
        "    model=model\n",
        ")"
      ],
      "metadata": {
        "id": "hXNdBTEmL8QN"
      },
      "execution_count": 9,
      "outputs": []
    },
    {
      "cell_type": "code",
      "source": [
        "pipeline(\n",
        "    train_data=train_dataset,\n",
        "    eval_data=eval_dataset,\n",
        "    callbacks=callbacks # pass the callbacks to the TrainingPipeline and you are done!\n",
        ")"
      ],
      "metadata": {
        "id": "U5W6i_D3MShB"
      },
      "execution_count": null,
      "outputs": []
    },
    {
      "cell_type": "markdown",
      "source": [
        "## Display the test results as Comet UI directly in a Jupyter Notebook"
      ],
      "metadata": {
        "id": "j--S2SlpM4Yz"
      }
    },
    {
      "cell_type": "code",
      "source": [
        "experiment = comet_ml.get_global_experiment()\n",
        "experiment.display()"
      ],
      "metadata": {
        "colab": {
          "base_uri": "https://localhost:8080/",
          "height": 821
        },
        "id": "guqgcQuyMveY",
        "outputId": "55d82c18-8266-44e0-c5af-d0a353a4749f"
      },
      "execution_count": 11,
      "outputs": [
        {
          "output_type": "display_data",
          "data": {
            "text/plain": [
              "<IPython.lib.display.IFrame at 0x7f0c215d29a0>"
            ],
            "text/html": [
              "\n",
              "        <iframe\n",
              "            width=\"100%\"\n",
              "            height=\"800px\"\n",
              "            src=\"https://www.comet.com/tirendaz/comet-pythae/311b5e521ad1426095a8bad9384bf548\"\n",
              "            frameborder=\"0\"\n",
              "            allowfullscreen\n",
              "        ></iframe>\n",
              "        "
            ]
          },
          "metadata": {}
        }
      ]
    },
    {
      "cell_type": "markdown",
      "source": [
        "## Resources \n",
        "- [Pythae & Comet](https://www.comet.com/site/blog/pythae-comet/)\n",
        "\n",
        "Thanks for reading 😀\n",
        "🔗 Let's connect [YouTube](http://youtube.com/tirendazacademy) | [Medium](http://tirendazacademy.medium.com) | [Twitter](http://twitter.com/tirendazacademy) | [Instagram](https://www.instagram.com/tirendazacademy) "
      ],
      "metadata": {
        "id": "PPavHkzTOZkF"
      }
    }
  ]
}